{
  "nbformat": 4,
  "nbformat_minor": 0,
  "metadata": {
    "colab": {
      "name": "download",
      "provenance": [],
      "collapsed_sections": [],
      "authorship_tag": "ABX9TyPikClQuBQzzIP9JyLSfOB8",
      "include_colab_link": true
    },
    "kernelspec": {
      "name": "python3",
      "display_name": "Python 3"
    }
  },
  "cells": [
    {
      "cell_type": "markdown",
      "metadata": {
        "id": "view-in-github",
        "colab_type": "text"
      },
      "source": [
        "<a href=\"https://colab.research.google.com/github/bonghoa15/gee/blob/master/download.ipynb\" target=\"_parent\"><img src=\"https://colab.research.google.com/assets/colab-badge.svg\" alt=\"Open In Colab\"/></a>"
      ]
    },
    {
      "cell_type": "markdown",
      "metadata": {
        "id": "ZN-g3uhf5XOb",
        "colab_type": "text"
      },
      "source": [
        "It is assumed that you are authenticated with Google Earth engine your account. If not, sign up your email with GEE with link:  https://earthengine.google.com/new_signup/"
      ]
    },
    {
      "cell_type": "code",
      "metadata": {
        "id": "wnSoO9whPDIJ",
        "colab_type": "code",
        "colab": {
          "base_uri": "https://localhost:8080/",
          "height": 197
        },
        "outputId": "922421a6-48c8-4087-fa02-a305ab146841"
      },
      "source": [
        "!pip install google-api-python-client"
      ],
      "execution_count": 1,
      "outputs": [
        {
          "output_type": "stream",
          "text": [
            "Requirement already satisfied: google-api-python-client in /usr/local/lib/python3.6/dist-packages (1.7.12)\n",
            "Requirement already satisfied: google-auth>=1.4.1 in /usr/local/lib/python3.6/dist-packages (from google-api-python-client) (1.17.2)\n",
            "Requirement already satisfied: uritemplate<4dev,>=3.0.0 in /usr/local/lib/python3.6/dist-packages (from google-api-python-client) (3.0.1)\n",
            "Requirement already satisfied: httplib2<1dev,>=0.17.0 in /usr/local/lib/python3.6/dist-packages (from google-api-python-client) (0.17.4)\n",
            "Requirement already satisfied: six<2dev,>=1.6.1 in /usr/local/lib/python3.6/dist-packages (from google-api-python-client) (1.12.0)\n",
            "Requirement already satisfied: google-auth-httplib2>=0.0.3 in /usr/local/lib/python3.6/dist-packages (from google-api-python-client) (0.0.3)\n",
            "Requirement already satisfied: setuptools>=40.3.0 in /usr/local/lib/python3.6/dist-packages (from google-auth>=1.4.1->google-api-python-client) (47.3.1)\n",
            "Requirement already satisfied: cachetools<5.0,>=2.0.0 in /usr/local/lib/python3.6/dist-packages (from google-auth>=1.4.1->google-api-python-client) (4.1.0)\n",
            "Requirement already satisfied: rsa<5,>=3.1.4; python_version >= \"3\" in /usr/local/lib/python3.6/dist-packages (from google-auth>=1.4.1->google-api-python-client) (4.6)\n",
            "Requirement already satisfied: pyasn1-modules>=0.2.1 in /usr/local/lib/python3.6/dist-packages (from google-auth>=1.4.1->google-api-python-client) (0.2.8)\n",
            "Requirement already satisfied: pyasn1>=0.1.3 in /usr/local/lib/python3.6/dist-packages (from rsa<5,>=3.1.4; python_version >= \"3\"->google-auth>=1.4.1->google-api-python-client) (0.4.8)\n"
          ],
          "name": "stdout"
        }
      ]
    },
    {
      "cell_type": "code",
      "metadata": {
        "id": "8OZ-lryyYgz-",
        "colab_type": "code",
        "colab": {}
      },
      "source": [
        "import ee"
      ],
      "execution_count": 2,
      "outputs": []
    },
    {
      "cell_type": "code",
      "metadata": {
        "id": "Dgtvt9FWSpgd",
        "colab_type": "code",
        "colab": {
          "base_uri": "https://localhost:8080/",
          "height": 168
        },
        "outputId": "c5df5f2d-1b51-4cf6-f3bb-316f9710009c"
      },
      "source": [
        "ee.Authenticate()\n",
        "ee.Initialize()"
      ],
      "execution_count": 3,
      "outputs": [
        {
          "output_type": "stream",
          "text": [
            "To authorize access needed by Earth Engine, open the following URL in a web browser and follow the instructions. If the web browser does not start automatically, please manually browse the URL below.\n",
            "\n",
            "    https://accounts.google.com/o/oauth2/auth?client_id=517222506229-vsmmajv00ul0bs7p89v5m89qs8eb9359.apps.googleusercontent.com&scope=https%3A%2F%2Fwww.googleapis.com%2Fauth%2Fearthengine+https%3A%2F%2Fwww.googleapis.com%2Fauth%2Fdevstorage.full_control&redirect_uri=urn%3Aietf%3Awg%3Aoauth%3A2.0%3Aoob&response_type=code&code_challenge=P-XOXh4H_RNJUbrhGX1DdUlcoNU111cZVprJyARdvq8&code_challenge_method=S256\n",
            "\n",
            "The authorization workflow will generate a code, which you should paste in the box below. \n",
            "Enter verification code: 4/1QEUF7Z7mcRAAX_VjPRQvuLdwc53lnQS1t0hXU7JLp5v56E0lgizPU8\n",
            "\n",
            "Successfully saved authorization token.\n"
          ],
          "name": "stdout"
        }
      ]
    },
    {
      "cell_type": "code",
      "metadata": {
        "id": "kfxGsa3hTx3E",
        "colab_type": "code",
        "colab": {
          "base_uri": "https://localhost:8080/",
          "height": 135
        },
        "outputId": "6dd1b30b-d1b4-4c95-9968-4d7970b77517"
      },
      "source": [
        "from google.colab import drive\n",
        "drive.mount('/content/gdrive')\n",
        "%cd /content/gdrive/My Drive/"
      ],
      "execution_count": 4,
      "outputs": [
        {
          "output_type": "stream",
          "text": [
            "Go to this URL in a browser: https://accounts.google.com/o/oauth2/auth?client_id=947318989803-6bn6qk8qdgf4n4g3pfee6491hc0brc4i.apps.googleusercontent.com&redirect_uri=urn%3aietf%3awg%3aoauth%3a2.0%3aoob&response_type=code&scope=email%20https%3a%2f%2fwww.googleapis.com%2fauth%2fdocs.test%20https%3a%2f%2fwww.googleapis.com%2fauth%2fdrive%20https%3a%2f%2fwww.googleapis.com%2fauth%2fdrive.photos.readonly%20https%3a%2f%2fwww.googleapis.com%2fauth%2fpeopleapi.readonly\n",
            "\n",
            "Enter your authorization code:\n",
            "··········\n",
            "Mounted at /content/gdrive\n",
            "/content/gdrive/My Drive\n"
          ],
          "name": "stdout"
        }
      ]
    },
    {
      "cell_type": "code",
      "metadata": {
        "id": "Uvq2CPIdnXDQ",
        "colab_type": "code",
        "colab": {}
      },
      "source": [
        "gFolder = 'ee' # create folder if not exist"
      ],
      "execution_count": 5,
      "outputs": []
    },
    {
      "cell_type": "markdown",
      "metadata": {
        "id": "GkafxDTVc7N3",
        "colab_type": "text"
      },
      "source": [
        "Border of Nigeria refers to the dataset https://developers.google.com/earth-engine/datasets/catalog/USDOS_LSIB_SIMPLE_2017"
      ]
    },
    {
      "cell_type": "code",
      "metadata": {
        "id": "i35sgI85jW_3",
        "colab_type": "code",
        "colab": {}
      },
      "source": [
        "border = ee.FeatureCollection('USDOS/LSIB_SIMPLE/2017')\\\n",
        "                    .filterMetadata(\"country_na\", \"equals\", \"Nigeria\").geometry()"
      ],
      "execution_count": 6,
      "outputs": []
    },
    {
      "cell_type": "markdown",
      "metadata": {
        "id": "TRJPq6R7eccN",
        "colab_type": "text"
      },
      "source": [
        "Using border of Nigeria to filter night light  & world population"
      ]
    },
    {
      "cell_type": "code",
      "metadata": {
        "id": "0CJvSM0aqfm9",
        "colab_type": "code",
        "colab": {}
      },
      "source": [
        "#image/imagecollection\n",
        "nightlight = ee.ImageCollection(\"NOAA/VIIRS/DNB/MONTHLY_V1/VCMCFG\")\\\n",
        "                                    .sort('system:time_end', False)\\\n",
        "                                    .limit(12) #most recent 12 months\n",
        "worldpop = ee.ImageCollection(\"WorldPop/GP/100m/pop\")\\\n",
        "                        .filterMetadata(\"country\", \"equals\", \"NGA\")\\\n",
        "                        .filterMetadata(\"year\", \"equals\", 2019) #year 2019"
      ],
      "execution_count": 8,
      "outputs": []
    },
    {
      "cell_type": "code",
      "metadata": {
        "id": "UXQeCO1Tp36k",
        "colab_type": "code",
        "colab": {}
      },
      "source": [
        "#download image collection\n",
        "def download_imgcol(imgcol, band,des, aggfunc = 'median',border=border, folder=None, scale = None):\n",
        "    # # collection metadata\n",
        "    imagename = imgcol.getInfo()[\"id\"]\n",
        "    id = f\"{imagename}_{band}\"\n",
        "\n",
        "    # first image metadata\n",
        "    meta = imgcol.first().clip(border).getInfo()[\"bands\"][0]\n",
        "    crs_transform = str(meta[\"crs_transform\"])\n",
        "    dimensions = meta[\"dimensions\"]\n",
        "\n",
        "    # clip border, select one band \n",
        "    image = getattr(imgcol, aggfunc)().clip(border)\n",
        "    image = image.set(dict(id=id, crs_transform=crs_transform))\n",
        "    image = image.select(band)\n",
        "\n",
        "    #getinfo\n",
        "    meta = image.getInfo()\n",
        "    props = meta[\"properties\"]\n",
        "    crs_transformation = props.get('crs_transform')\n",
        "    crs = meta['bands'][0]['crs']\n",
        "\n",
        "    #download \n",
        "    task = ee.batch.Export.image.toDrive(image = image,\n",
        "                                         folder = folder,\n",
        "                                         description = des,\n",
        "                                         scale= scale, \n",
        "                                         fileFormat= 'GeoTIFF',\n",
        "                                         maxPixels=int(1e13));\n",
        "                      \n",
        "    task.start()\n",
        "    return print(task.status())"
      ],
      "execution_count": 17,
      "outputs": []
    },
    {
      "cell_type": "code",
      "metadata": {
        "id": "nyJ6LoO9goR3",
        "colab_type": "code",
        "colab": {
          "base_uri": "https://localhost:8080/",
          "height": 52
        },
        "outputId": "e04cba23-a506-4471-ccf8-a898225576a0"
      },
      "source": [
        "download_imgcol(imgcol=nightlight,des = 'nighttimelight_median', folder = gFolder, band = 'avg_rad',scale=1000)"
      ],
      "execution_count": 21,
      "outputs": [
        {
          "output_type": "stream",
          "text": [
            "{'state': 'READY', 'description': 'nighttimelight_median', 'creation_timestamp_ms': 1593242197595, 'update_timestamp_ms': 1593242197595, 'start_timestamp_ms': 0, 'task_type': 'EXPORT_IMAGE', 'id': 'CQARHBVORHG3D2F4ZAPUGGDO', 'name': 'projects/earthengine-legacy/operations/CQARHBVORHG3D2F4ZAPUGGDO'}\n"
          ],
          "name": "stdout"
        }
      ]
    },
    {
      "cell_type": "code",
      "metadata": {
        "id": "ccLkjX-4jj3O",
        "colab_type": "code",
        "colab": {
          "base_uri": "https://localhost:8080/",
          "height": 52
        },
        "outputId": "2c47073d-342a-4c0e-ccfa-a9730a9b9a16"
      },
      "source": [
        "download_imgcol(imgcol=worldpop, des = 'worldpop_2019',folder = gFolder, band = 'population',scale=1000)"
      ],
      "execution_count": 20,
      "outputs": [
        {
          "output_type": "stream",
          "text": [
            "{'state': 'READY', 'description': 'worldpop_2019', 'creation_timestamp_ms': 1593242190440, 'update_timestamp_ms': 1593242190440, 'start_timestamp_ms': 0, 'task_type': 'EXPORT_IMAGE', 'id': 'FUKTD3UC7UMAVGKZW6XMMDTA', 'name': 'projects/earthengine-legacy/operations/FUKTD3UC7UMAVGKZW6XMMDTA'}\n"
          ],
          "name": "stdout"
        }
      ]
    },
    {
      "cell_type": "code",
      "metadata": {
        "id": "LLTOPDIMnpMI",
        "colab_type": "code",
        "colab": {}
      },
      "source": [
        ""
      ],
      "execution_count": null,
      "outputs": []
    }
  ]
}