{
  "nbformat": 4,
  "nbformat_minor": 0,
  "metadata": {
    "colab": {
      "name": "download_gee",
      "provenance": [],
      "collapsed_sections": [],
      "include_colab_link": true
    },
    "kernelspec": {
      "name": "python3",
      "display_name": "Python 3"
    },
    "accelerator": "GPU"
  },
  "cells": [
    {
      "cell_type": "markdown",
      "metadata": {
        "id": "view-in-github",
        "colab_type": "text"
      },
      "source": [
        "<a href=\"https://colab.research.google.com/github/bonghoa15/gee/blob/master/download_gee.ipynb\" target=\"_parent\"><img src=\"https://colab.research.google.com/assets/colab-badge.svg\" alt=\"Open In Colab\"/></a>"
      ]
    },
    {
      "cell_type": "markdown",
      "metadata": {
        "id": "ZN-g3uhf5XOb",
        "colab_type": "text"
      },
      "source": [
        "It is assumed that you are authenticated with Google Earth engine your account. If not, sign up your email with GEE with link:  https://earthengine.google.com/new_signup/"
      ]
    },
    {
      "cell_type": "code",
      "metadata": {
        "id": "wnSoO9whPDIJ",
        "colab_type": "code",
        "outputId": "170180ce-0527-43e1-ed72-0560599875cf",
        "colab": {
          "base_uri": "https://localhost:8080/",
          "height": 224
        }
      },
      "source": [
        "!pip install google-api-python-client"
      ],
      "execution_count": 1,
      "outputs": [
        {
          "output_type": "stream",
          "text": [
            "Requirement already satisfied: google-api-python-client in /usr/local/lib/python3.6/dist-packages (1.7.12)\n",
            "Requirement already satisfied: google-auth-httplib2>=0.0.3 in /usr/local/lib/python3.6/dist-packages (from google-api-python-client) (0.0.3)\n",
            "Requirement already satisfied: six<2dev,>=1.6.1 in /usr/local/lib/python3.6/dist-packages (from google-api-python-client) (1.12.0)\n",
            "Requirement already satisfied: google-auth>=1.4.1 in /usr/local/lib/python3.6/dist-packages (from google-api-python-client) (1.7.2)\n",
            "Requirement already satisfied: uritemplate<4dev,>=3.0.0 in /usr/local/lib/python3.6/dist-packages (from google-api-python-client) (3.0.1)\n",
            "Requirement already satisfied: httplib2<1dev,>=0.17.0 in /usr/local/lib/python3.6/dist-packages (from google-api-python-client) (0.17.2)\n",
            "Requirement already satisfied: cachetools<3.2,>=2.0.0 in /usr/local/lib/python3.6/dist-packages (from google-auth>=1.4.1->google-api-python-client) (3.1.1)\n",
            "Requirement already satisfied: setuptools>=40.3.0 in /usr/local/lib/python3.6/dist-packages (from google-auth>=1.4.1->google-api-python-client) (46.1.3)\n",
            "Requirement already satisfied: pyasn1-modules>=0.2.1 in /usr/local/lib/python3.6/dist-packages (from google-auth>=1.4.1->google-api-python-client) (0.2.8)\n",
            "Requirement already satisfied: rsa<4.1,>=3.1.4 in /usr/local/lib/python3.6/dist-packages (from google-auth>=1.4.1->google-api-python-client) (4.0)\n",
            "Requirement already satisfied: pyasn1<0.5.0,>=0.4.6 in /usr/local/lib/python3.6/dist-packages (from pyasn1-modules>=0.2.1->google-auth>=1.4.1->google-api-python-client) (0.4.8)\n"
          ],
          "name": "stdout"
        }
      ]
    },
    {
      "cell_type": "code",
      "metadata": {
        "id": "8OZ-lryyYgz-",
        "colab_type": "code",
        "colab": {}
      },
      "source": [
        "import ee"
      ],
      "execution_count": 0,
      "outputs": []
    },
    {
      "cell_type": "code",
      "metadata": {
        "id": "Dgtvt9FWSpgd",
        "colab_type": "code",
        "outputId": "b4204e1a-fa80-42a2-f8d9-08b7ce396699",
        "colab": {
          "base_uri": "https://localhost:8080/",
          "height": 173
        }
      },
      "source": [
        "ee.Authenticate()\n",
        "ee.Initialize()"
      ],
      "execution_count": 3,
      "outputs": [
        {
          "output_type": "stream",
          "text": [
            "To authorize access needed by Earth Engine, open the following URL in a web browser and follow the instructions. If the web browser does not start automatically, please manually browse the URL below.\n",
            "\n",
            "    https://accounts.google.com/o/oauth2/auth?client_id=517222506229-vsmmajv00ul0bs7p89v5m89qs8eb9359.apps.googleusercontent.com&scope=https%3A%2F%2Fwww.googleapis.com%2Fauth%2Fearthengine+https%3A%2F%2Fwww.googleapis.com%2Fauth%2Fdevstorage.full_control&redirect_uri=urn%3Aietf%3Awg%3Aoauth%3A2.0%3Aoob&response_type=code&code_challenge=zJEcaJc1cC_WtzSkxl3KJCAiUT8gorqr6aRCArqL1QU&code_challenge_method=S256\n",
            "\n",
            "The authorization workflow will generate a code, which you should paste in the box below. \n",
            "Enter verification code: 4/ywHYuUOYC3A3bBLfMCigSXCLC_PTXXltw3e1ezyudyZ5WaprPKfTqqw\n",
            "\n",
            "Successfully saved authorization token.\n"
          ],
          "name": "stdout"
        }
      ]
    },
    {
      "cell_type": "code",
      "metadata": {
        "id": "kfxGsa3hTx3E",
        "colab_type": "code",
        "outputId": "dd4ae986-fac2-4e51-9cce-2e5e3a394dfa",
        "colab": {
          "base_uri": "https://localhost:8080/",
          "height": 122
        }
      },
      "source": [
        "from google.colab import drive\n",
        "drive.mount('/content/drive')"
      ],
      "execution_count": 4,
      "outputs": [
        {
          "output_type": "stream",
          "text": [
            "Go to this URL in a browser: https://accounts.google.com/o/oauth2/auth?client_id=947318989803-6bn6qk8qdgf4n4g3pfee6491hc0brc4i.apps.googleusercontent.com&redirect_uri=urn%3aietf%3awg%3aoauth%3a2.0%3aoob&response_type=code&scope=email%20https%3a%2f%2fwww.googleapis.com%2fauth%2fdocs.test%20https%3a%2f%2fwww.googleapis.com%2fauth%2fdrive%20https%3a%2f%2fwww.googleapis.com%2fauth%2fdrive.photos.readonly%20https%3a%2f%2fwww.googleapis.com%2fauth%2fpeopleapi.readonly\n",
            "\n",
            "Enter your authorization code:\n",
            "··········\n",
            "Mounted at /content/drive\n"
          ],
          "name": "stdout"
        }
      ]
    },
    {
      "cell_type": "code",
      "metadata": {
        "id": "LTG4l5fXjZpL",
        "colab_type": "code",
        "outputId": "53a4c549-6a99-4fa6-a779-73b63304fbf9",
        "colab": {
          "base_uri": "https://localhost:8080/",
          "height": 34
        }
      },
      "source": [
        "%cd 'drive/My Drive'"
      ],
      "execution_count": 5,
      "outputs": [
        {
          "output_type": "stream",
          "text": [
            "/content/drive/My Drive\n"
          ],
          "name": "stdout"
        }
      ]
    },
    {
      "cell_type": "code",
      "metadata": {
        "id": "Uvq2CPIdnXDQ",
        "colab_type": "code",
        "colab": {}
      },
      "source": [
        "gFolder = 'ee' # create folder if not exist"
      ],
      "execution_count": 0,
      "outputs": []
    },
    {
      "cell_type": "code",
      "metadata": {
        "id": "i35sgI85jW_3",
        "colab_type": "code",
        "colab": {}
      },
      "source": [
        "#border Nigeria\n",
        "border = ee.FeatureCollection('USDOS/LSIB_SIMPLE/2017')\\\n",
        "                    .filterMetadata(\"country_na\", \"equals\", \"Nigeria\").geometry()"
      ],
      "execution_count": 0,
      "outputs": []
    },
    {
      "cell_type": "code",
      "metadata": {
        "id": "0CJvSM0aqfm9",
        "colab_type": "code",
        "colab": {}
      },
      "source": [
        "#image/imagecollection\n",
        "nightlight = ee.ImageCollection(\"NOAA/VIIRS/DNB/MONTHLY_V1/VCMCFG\")\\\n",
        "                                    .sort('system:time_end', False)\\\n",
        "                                    .limit(12) #most recent 12 months\n",
        "worldpop = ee.ImageCollection(\"WorldPop/GP/100m/pop\")\\\n",
        "                        .filterMetadata(\"country\", \"equals\", \"NGA\")\\\n",
        "                        .filterMetadata(\"year\", \"equals\", 2019) #year 2019"
      ],
      "execution_count": 0,
      "outputs": []
    },
    {
      "cell_type": "code",
      "metadata": {
        "id": "UXQeCO1Tp36k",
        "colab_type": "code",
        "colab": {}
      },
      "source": [
        "#download image collection\n",
        "def download_imgcol(imgcol, band,des, aggfunc = 'median',border=border, folder=None, scale = None):\n",
        "    # # collection metadata\n",
        "    imagename = imgcol.getInfo()[\"id\"]\n",
        "    id = f\"{imagename}_{band}\"\n",
        "\n",
        "    # first image metadata\n",
        "    meta = imgcol.first().clip(border).getInfo()[\"bands\"][0]\n",
        "    crs_transform = str(meta[\"crs_transform\"])\n",
        "    dimensions = meta[\"dimensions\"]\n",
        "\n",
        "    # clip border, select one band \n",
        "    image = getattr(imgcol, aggfunc)().clip(border)\n",
        "    image = image.set(dict(id=id, crs_transform=crs_transform))\n",
        "    image = image.select(band)\n",
        "\n",
        "    #getinfo\n",
        "    meta = image.getInfo()\n",
        "    props = meta[\"properties\"]\n",
        "    crs_transformation = props.get('crs_transform')\n",
        "    crs = meta['bands'][0]['crs']\n",
        "\n",
        "    #download \n",
        "    task = ee.batch.Export.image.toDrive(image = image,\n",
        "                                         folder = folder,\n",
        "                                         description = des,\n",
        "                                         scale= scale, \n",
        "                                         fileFormat= 'GeoTIFF',\n",
        "                                         maxPixels=int(1e10));\n",
        "                      \n",
        "    task.start()\n",
        "    return print(task.status())"
      ],
      "execution_count": 0,
      "outputs": []
    },
    {
      "cell_type": "code",
      "metadata": {
        "id": "nyJ6LoO9goR3",
        "colab_type": "code",
        "outputId": "073bd3f8-585d-4be8-e174-2e9f397fc1c8",
        "colab": {
          "base_uri": "https://localhost:8080/",
          "height": 54
        }
      },
      "source": [
        "download_imgcol(imgcol=nightlight,des = 'nighttimelight_median', folder = gFolder, band = 'avg_rad',scale=10)"
      ],
      "execution_count": 10,
      "outputs": [
        {
          "output_type": "stream",
          "text": [
            "{'state': 'READY', 'description': 'nighttimelight_median', 'creation_timestamp_ms': 1587277749386, 'update_timestamp_ms': 1587277749386, 'start_timestamp_ms': 0, 'task_type': 'EXPORT_IMAGE', 'id': 'OFRVEE4KB4URDZMN54VDRZZJ', 'name': 'projects/earthengine-legacy/operations/OFRVEE4KB4URDZMN54VDRZZJ'}\n"
          ],
          "name": "stdout"
        }
      ]
    },
    {
      "cell_type": "code",
      "metadata": {
        "id": "ccLkjX-4jj3O",
        "colab_type": "code",
        "outputId": "4bc4d2dd-9568-4107-919f-467fb9aeda6d",
        "colab": {
          "base_uri": "https://localhost:8080/",
          "height": 54
        }
      },
      "source": [
        "download_imgcol(imgcol=worldpop, des = 'worldpop_2019',folder = gFolder, band = 'population',scale=10)"
      ],
      "execution_count": 11,
      "outputs": [
        {
          "output_type": "stream",
          "text": [
            "{'state': 'READY', 'description': 'worldpop_2019', 'creation_timestamp_ms': 1587277753873, 'update_timestamp_ms': 1587277753873, 'start_timestamp_ms': 0, 'task_type': 'EXPORT_IMAGE', 'id': 'TR7C6Q6JPTIVFJRMAYPXD6CM', 'name': 'projects/earthengine-legacy/operations/TR7C6Q6JPTIVFJRMAYPXD6CM'}\n"
          ],
          "name": "stdout"
        }
      ]
    },
    {
      "cell_type": "code",
      "metadata": {
        "id": "8kvRWSMr67IK",
        "colab_type": "code",
        "colab": {}
      },
      "source": [
        ""
      ],
      "execution_count": 0,
      "outputs": []
    }
  ]
}