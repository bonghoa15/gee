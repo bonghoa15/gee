{
  "nbformat": 4,
  "nbformat_minor": 0,
  "metadata": {
    "colab": {
      "name": "download_gee",
      "provenance": [],
      "collapsed_sections": [],
      "authorship_tag": "ABX9TyPuvo+7xmydzY8wfA+7Av/4",
      "include_colab_link": true
    },
    "kernelspec": {
      "name": "python3",
      "display_name": "Python 3"
    },
    "accelerator": "GPU"
  },
  "cells": [
    {
      "cell_type": "markdown",
      "metadata": {
        "id": "view-in-github",
        "colab_type": "text"
      },
      "source": [
        "<a href=\"https://colab.research.google.com/github/bonghoa15/gee/blob/master/download_gee.ipynb\" target=\"_parent\"><img src=\"https://colab.research.google.com/assets/colab-badge.svg\" alt=\"Open In Colab\"/></a>"
      ]
    },
    {
      "cell_type": "markdown",
      "metadata": {
        "id": "ZN-g3uhf5XOb",
        "colab_type": "text"
      },
      "source": [
        "It is assumed that you are authenticated with Google Earth engine your account. If not, sign up your email with GEE with link:  https://earthengine.google.com/new_signup/"
      ]
    },
    {
      "cell_type": "code",
      "metadata": {
        "id": "wnSoO9whPDIJ",
        "colab_type": "code",
        "outputId": "9ec73e6d-1281-432c-8fb8-57e9a01b15e7",
        "colab": {
          "base_uri": "https://localhost:8080/",
          "height": 224
        }
      },
      "source": [
        "!pip install google-api-python-client"
      ],
      "execution_count": 2,
      "outputs": [
        {
          "output_type": "stream",
          "text": [
            "Requirement already satisfied: google-api-python-client in /usr/local/lib/python3.6/dist-packages (1.7.11)\n",
            "Requirement already satisfied: google-auth-httplib2>=0.0.3 in /usr/local/lib/python3.6/dist-packages (from google-api-python-client) (0.0.3)\n",
            "Requirement already satisfied: six<2dev,>=1.6.1 in /usr/local/lib/python3.6/dist-packages (from google-api-python-client) (1.12.0)\n",
            "Requirement already satisfied: httplib2<1dev,>=0.9.2 in /usr/local/lib/python3.6/dist-packages (from google-api-python-client) (0.11.3)\n",
            "Requirement already satisfied: uritemplate<4dev,>=3.0.0 in /usr/local/lib/python3.6/dist-packages (from google-api-python-client) (3.0.1)\n",
            "Requirement already satisfied: google-auth>=1.4.1 in /usr/local/lib/python3.6/dist-packages (from google-api-python-client) (1.7.2)\n",
            "Requirement already satisfied: setuptools>=40.3.0 in /usr/local/lib/python3.6/dist-packages (from google-auth>=1.4.1->google-api-python-client) (45.2.0)\n",
            "Requirement already satisfied: rsa<4.1,>=3.1.4 in /usr/local/lib/python3.6/dist-packages (from google-auth>=1.4.1->google-api-python-client) (4.0)\n",
            "Requirement already satisfied: cachetools<3.2,>=2.0.0 in /usr/local/lib/python3.6/dist-packages (from google-auth>=1.4.1->google-api-python-client) (3.1.1)\n",
            "Requirement already satisfied: pyasn1-modules>=0.2.1 in /usr/local/lib/python3.6/dist-packages (from google-auth>=1.4.1->google-api-python-client) (0.2.8)\n",
            "Requirement already satisfied: pyasn1>=0.1.3 in /usr/local/lib/python3.6/dist-packages (from rsa<4.1,>=3.1.4->google-auth>=1.4.1->google-api-python-client) (0.4.8)\n"
          ],
          "name": "stdout"
        }
      ]
    },
    {
      "cell_type": "code",
      "metadata": {
        "id": "8OZ-lryyYgz-",
        "colab_type": "code",
        "colab": {}
      },
      "source": [
        "import ee"
      ],
      "execution_count": 0,
      "outputs": []
    },
    {
      "cell_type": "code",
      "metadata": {
        "id": "Dgtvt9FWSpgd",
        "colab_type": "code",
        "outputId": "83c8d566-d55d-4f59-85f4-20c9335a3d25",
        "colab": {
          "base_uri": "https://localhost:8080/",
          "height": 173
        }
      },
      "source": [
        "ee.Authenticate()\n",
        "ee.Initialize()"
      ],
      "execution_count": 4,
      "outputs": [
        {
          "output_type": "stream",
          "text": [
            "To authorize access needed by Earth Engine, open the following URL in a web browser and follow the instructions. If the web browser does not start automatically, please manually browse the URL below.\n",
            "\n",
            "    https://accounts.google.com/o/oauth2/auth?client_id=517222506229-vsmmajv00ul0bs7p89v5m89qs8eb9359.apps.googleusercontent.com&scope=https%3A%2F%2Fwww.googleapis.com%2Fauth%2Fearthengine+https%3A%2F%2Fwww.googleapis.com%2Fauth%2Fdevstorage.full_control&redirect_uri=urn%3Aietf%3Awg%3Aoauth%3A2.0%3Aoob&response_type=code\n",
            "\n",
            "The authorization workflow will generate a code, which you should paste in the box below. \n",
            "Enter verification code: 4/xgHIWR-kwd_epbjFFEKFcde5tqYgale8OXrNoDhuRDr6o0g61M8Y13A\n",
            "\n",
            "Successfully saved authorization token.\n"
          ],
          "name": "stdout"
        }
      ]
    },
    {
      "cell_type": "code",
      "metadata": {
        "id": "kfxGsa3hTx3E",
        "colab_type": "code",
        "outputId": "53980028-0b8d-4c9f-c379-36aa91c663e3",
        "colab": {
          "base_uri": "https://localhost:8080/",
          "height": 68
        }
      },
      "source": [
        "from google.colab import drive\n",
        "drive.mount('/content/drive')\n"
      ],
      "execution_count": 8,
      "outputs": [
        {
          "output_type": "stream",
          "text": [
            "Drive already mounted at /content/drive; to attempt to forcibly remount, call drive.mount(\"/content/drive\", force_remount=True).\n",
            "shell-init: error retrieving current directory: getcwd: cannot access parent directories: No such file or directory\n",
            "ls: cannot open directory '.': Transport endpoint is not connected\n"
          ],
          "name": "stdout"
        }
      ]
    },
    {
      "cell_type": "code",
      "metadata": {
        "id": "LTG4l5fXjZpL",
        "colab_type": "code",
        "colab": {}
      },
      "source": [
        "# %cd 'gdrive/My Drive'"
      ],
      "execution_count": 0,
      "outputs": []
    },
    {
      "cell_type": "code",
      "metadata": {
        "id": "Uvq2CPIdnXDQ",
        "colab_type": "code",
        "colab": {}
      },
      "source": [
        "gFolder = 'ee' # create folder if not exist"
      ],
      "execution_count": 0,
      "outputs": []
    },
    {
      "cell_type": "code",
      "metadata": {
        "id": "i35sgI85jW_3",
        "colab_type": "code",
        "colab": {}
      },
      "source": [
        "#border Nigeria\n",
        "border = ee.FeatureCollection('USDOS/LSIB_SIMPLE/2017')\\\n",
        "                    .filterMetadata(\"country_na\", \"equals\", \"Nigeria\").geometry()"
      ],
      "execution_count": 0,
      "outputs": []
    },
    {
      "cell_type": "code",
      "metadata": {
        "id": "0CJvSM0aqfm9",
        "colab_type": "code",
        "colab": {}
      },
      "source": [
        "#image/imagecollection\n",
        "nightlight = ee.ImageCollection(\"NOAA/VIIRS/DNB/MONTHLY_V1/VCMCFG\")\\\n",
        "                                    .select(['avg_rad'])\\\n",
        "                                    .sort('system:time_end', False)\\\n",
        "                                    .limit(12) #most recent 12 months\n",
        "worldpop = ee.ImageCollection(\"WorldPop/GP/100m/pop\")\\\n",
        "                        .filterMetadata(\"country\", \"equals\", \"NGA\")\\\n",
        "                        .filterMetadata(\"year\", \"equals\", 2019) #year 2019"
      ],
      "execution_count": 0,
      "outputs": []
    },
    {
      "cell_type": "code",
      "metadata": {
        "id": "UXQeCO1Tp36k",
        "colab_type": "code",
        "colab": {}
      },
      "source": [
        "#download image collection\n",
        "def download_imgcol(imgcol, folder, border = border, aggfunc = 'median', band,scale = 100):\n",
        "    # collection metadata\n",
        "    imagename = imgcol.getInfo()[\"id\"]\n",
        "    id = f\"{imagename}_{band}_{aggfunc}\"\n",
        "\n",
        "    # first image metadata\n",
        "    meta = imgcol.first().clip(border).getInfo()[\"bands\"][0]\n",
        "    crs_transform = str(meta[\"crs_transform\"])\n",
        "    dimensions = meta[\"dimensions\"]\n",
        "\n",
        "    # clip border, select one band \n",
        "    image = getattr(imgcol, aggfunc)().clip(border)\n",
        "    image = image.set(dict(id=id, crs_transform=crs_transform))\n",
        "    image = image.select(band)\n",
        "\n",
        "    #getinfo\n",
        "    meta = image.getInfo()\n",
        "    props = meta[\"properties\"]\n",
        "    crs_transformation = props.get('crs_transform')\n",
        "    crs = meta['bands'][0]['crs']\n",
        "\n",
        "    #download \n",
        "    task = ee.batch.Export.image.toDrive(image = image,\n",
        "                                         folder = folder,\n",
        "                                         description = id,\n",
        "                                         scale= scale, \n",
        "                                         fileFormat= 'GeoTIFF',\n",
        "                                         maxPixels=int(1e10));\n",
        "                      \n",
        "    task.start()\n",
        "    return print(task.status())"
      ],
      "execution_count": 0,
      "outputs": []
    },
    {
      "cell_type": "code",
      "metadata": {
        "id": "nyJ6LoO9goR3",
        "colab_type": "code",
        "colab": {}
      },
      "source": [
        "download_imgcol(nightlight,folder = gFolder, band = 'avg_band')"
      ],
      "execution_count": 0,
      "outputs": []
    },
    {
      "cell_type": "code",
      "metadata": {
        "id": "ccLkjX-4jj3O",
        "colab_type": "code",
        "colab": {}
      },
      "source": [
        "download_imgcol(worldpop, folder = gFolder, band = 'population')"
      ],
      "execution_count": 0,
      "outputs": []
    }
  ]
}