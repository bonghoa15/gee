{
  "nbformat": 4,
  "nbformat_minor": 0,
  "metadata": {
    "colab": {
      "name": "populated_no_night.ipynb",
      "provenance": [],
      "collapsed_sections": [],
      "machine_shape": "hm",
      "include_colab_link": true
    },
    "kernelspec": {
      "name": "python3",
      "display_name": "Python 3"
    }
  },
  "cells": [
    {
      "cell_type": "markdown",
      "metadata": {
        "id": "view-in-github",
        "colab_type": "text"
      },
      "source": [
        "<a href=\"https://colab.research.google.com/github/bonghoa15/gee/blob/master/populated_no_night.ipynb\" target=\"_parent\"><img src=\"https://colab.research.google.com/assets/colab-badge.svg\" alt=\"Open In Colab\"/></a>"
      ]
    },
    {
      "cell_type": "code",
      "metadata": {
        "id": "wBr2yoIDBDaY",
        "colab_type": "code",
        "colab": {
          "base_uri": "https://localhost:8080/",
          "height": 164
        },
        "outputId": "a1082047-1504-4f0d-8e60-78148974f531"
      },
      "source": [
        "!pip install rasterio"
      ],
      "execution_count": 1,
      "outputs": [
        {
          "output_type": "stream",
          "text": [
            "Requirement already satisfied: rasterio in /usr/local/lib/python3.6/dist-packages (1.1.5)\n",
            "Requirement already satisfied: cligj>=0.5 in /usr/local/lib/python3.6/dist-packages (from rasterio) (0.5.0)\n",
            "Requirement already satisfied: affine in /usr/local/lib/python3.6/dist-packages (from rasterio) (2.3.0)\n",
            "Requirement already satisfied: click<8,>=4.0 in /usr/local/lib/python3.6/dist-packages (from rasterio) (7.1.2)\n",
            "Requirement already satisfied: numpy in /usr/local/lib/python3.6/dist-packages (from rasterio) (1.18.5)\n",
            "Requirement already satisfied: attrs in /usr/local/lib/python3.6/dist-packages (from rasterio) (19.3.0)\n",
            "Requirement already satisfied: snuggs>=1.4.1 in /usr/local/lib/python3.6/dist-packages (from rasterio) (1.4.7)\n",
            "Requirement already satisfied: click-plugins in /usr/local/lib/python3.6/dist-packages (from rasterio) (1.1.1)\n",
            "Requirement already satisfied: pyparsing>=2.1.6 in /usr/local/lib/python3.6/dist-packages (from snuggs>=1.4.1->rasterio) (2.4.7)\n"
          ],
          "name": "stdout"
        }
      ]
    },
    {
      "cell_type": "code",
      "metadata": {
        "id": "FZZ9YY5yFVDd",
        "colab_type": "code",
        "colab": {}
      },
      "source": [
        "import pandas as pd\n",
        "import numpy as np\n",
        "\n",
        "import rasterio"
      ],
      "execution_count": 2,
      "outputs": []
    },
    {
      "cell_type": "code",
      "metadata": {
        "id": "nwAnXBHjyZSO",
        "colab_type": "code",
        "colab": {
          "base_uri": "https://localhost:8080/",
          "height": 49
        },
        "outputId": "ad2185e8-238e-44e3-89f6-33cf8dce4e92"
      },
      "source": [
        "from google.colab import drive\n",
        "drive.mount('/content/gdrive')\n",
        "%cd /content/gdrive/My Drive/"
      ],
      "execution_count": 3,
      "outputs": [
        {
          "output_type": "stream",
          "text": [
            "Drive already mounted at /content/gdrive; to attempt to forcibly remount, call drive.mount(\"/content/gdrive\", force_remount=True).\n",
            "/content/gdrive/My Drive\n"
          ],
          "name": "stdout"
        }
      ]
    },
    {
      "cell_type": "markdown",
      "metadata": {
        "id": "IrvXxLVkTHxR",
        "colab_type": "text"
      },
      "source": [
        "#Night light: Filter pixel without electricity"
      ]
    },
    {
      "cell_type": "code",
      "metadata": {
        "id": "EnfY2CUalGQ2",
        "colab_type": "code",
        "colab": {}
      },
      "source": [
        "night = rasterio.open('ee/nighttimelight_median.tif')\n",
        "night_band = night.read(1)"
      ],
      "execution_count": 4,
      "outputs": []
    },
    {
      "cell_type": "code",
      "metadata": {
        "id": "nMJhwITfMAFU",
        "colab_type": "code",
        "colab": {}
      },
      "source": [
        "night_band_df = pd.DataFrame(night_band)"
      ],
      "execution_count": 5,
      "outputs": []
    },
    {
      "cell_type": "code",
      "metadata": {
        "id": "-QAzNdXgPsq1",
        "colab_type": "code",
        "colab": {}
      },
      "source": [
        "night_band_df = night_band_df.reset_index()\n",
        "night_df = pd.melt(night_band_df, id_vars = ['index'])\n",
        "night_df.columns = ['px','py','nightlight']"
      ],
      "execution_count": 6,
      "outputs": []
    },
    {
      "cell_type": "code",
      "metadata": {
        "id": "AqiysAIETEbx",
        "colab_type": "code",
        "colab": {}
      },
      "source": [
        "night_df = night_df[(night_df.nightlight<0.2)|(night_df.nightlight.isnull())]"
      ],
      "execution_count": 7,
      "outputs": []
    },
    {
      "cell_type": "markdown",
      "metadata": {
        "id": "GTT4DOv-UDdg",
        "colab_type": "text"
      },
      "source": [
        "#Population: Filter pixel with poulation"
      ]
    },
    {
      "cell_type": "code",
      "metadata": {
        "id": "zOWIlKnulOP1",
        "colab_type": "code",
        "colab": {}
      },
      "source": [
        "pop = rasterio.open(\"ee/worldpop_2019.tif\")\n",
        "pop_band = pop.read(1)"
      ],
      "execution_count": 8,
      "outputs": []
    },
    {
      "cell_type": "code",
      "metadata": {
        "id": "lQZMxYvHUdM-",
        "colab_type": "code",
        "colab": {}
      },
      "source": [
        "pop_band_df = pd.DataFrame(pop_band)"
      ],
      "execution_count": 9,
      "outputs": []
    },
    {
      "cell_type": "code",
      "metadata": {
        "id": "NMboe1RLUd3H",
        "colab_type": "code",
        "colab": {}
      },
      "source": [
        "pop_band_df = pop_band_df.reset_index()\n",
        "pop_df = pd.melt(pop_band_df, id_vars = ['index'])\n",
        "pop_df.columns = ['px','py','pop']"
      ],
      "execution_count": 10,
      "outputs": []
    },
    {
      "cell_type": "code",
      "metadata": {
        "id": "c3dLunL7JnMb",
        "colab_type": "code",
        "colab": {}
      },
      "source": [
        "pop_df = pop_df[pop_df['pop'] >0]"
      ],
      "execution_count": 11,
      "outputs": []
    },
    {
      "cell_type": "code",
      "metadata": {
        "id": "DYuTCCiRyMnk",
        "colab_type": "code",
        "colab": {}
      },
      "source": [
        "night_df.to_csv('ee/nolightarea.csv',index=False)\n",
        "pop_df.to_csv('ee/populatedarea.csv',index=False)"
      ],
      "execution_count": 12,
      "outputs": []
    },
    {
      "cell_type": "code",
      "metadata": {
        "id": "5aqSwV__VTOp",
        "colab_type": "code",
        "colab": {
          "base_uri": "https://localhost:8080/",
          "height": 329
        },
        "outputId": "2eba7170-625b-48b1-dc9f-d301548a7bab"
      },
      "source": [
        "!pip install dask[dataframe]"
      ],
      "execution_count": 24,
      "outputs": [
        {
          "output_type": "stream",
          "text": [
            "Requirement already satisfied: dask[dataframe] in /usr/local/lib/python3.6/dist-packages (2.12.0)\n",
            "Requirement already satisfied: pandas>=0.23.0; extra == \"dataframe\" in /usr/local/lib/python3.6/dist-packages (from dask[dataframe]) (1.0.5)\n",
            "Requirement already satisfied: toolz>=0.7.3; extra == \"dataframe\" in /usr/local/lib/python3.6/dist-packages (from dask[dataframe]) (0.10.0)\n",
            "Requirement already satisfied: numpy>=1.13.0; extra == \"dataframe\" in /usr/local/lib/python3.6/dist-packages (from dask[dataframe]) (1.18.5)\n",
            "Collecting partd>=0.3.10; extra == \"dataframe\"\n",
            "  Downloading https://files.pythonhosted.org/packages/44/e1/68dbe731c9c067655bff1eca5b7d40c20ca4b23fd5ec9f3d17e201a6f36b/partd-1.1.0-py3-none-any.whl\n",
            "Requirement already satisfied: fsspec>=0.6.0; extra == \"dataframe\" in /usr/local/lib/python3.6/dist-packages (from dask[dataframe]) (0.7.4)\n",
            "Requirement already satisfied: python-dateutil>=2.6.1 in /usr/local/lib/python3.6/dist-packages (from pandas>=0.23.0; extra == \"dataframe\"->dask[dataframe]) (2.8.1)\n",
            "Requirement already satisfied: pytz>=2017.2 in /usr/local/lib/python3.6/dist-packages (from pandas>=0.23.0; extra == \"dataframe\"->dask[dataframe]) (2018.9)\n",
            "Collecting locket\n",
            "  Downloading https://files.pythonhosted.org/packages/d0/22/3c0f97614e0be8386542facb3a7dcfc2584f7b83608c02333bced641281c/locket-0.2.0.tar.gz\n",
            "Requirement already satisfied: six>=1.5 in /usr/local/lib/python3.6/dist-packages (from python-dateutil>=2.6.1->pandas>=0.23.0; extra == \"dataframe\"->dask[dataframe]) (1.12.0)\n",
            "Building wheels for collected packages: locket\n",
            "  Building wheel for locket (setup.py) ... \u001b[?25l\u001b[?25hdone\n",
            "  Created wheel for locket: filename=locket-0.2.0-cp36-none-any.whl size=4040 sha256=e58133e07f1f5c900bc37d93b872da26df84c802c97fcdcdc5e787aebd64cb99\n",
            "  Stored in directory: /root/.cache/pip/wheels/26/1e/e8/4fa236ec931b1a0cdd61578e20d4934d7bf188858723b84698\n",
            "Successfully built locket\n",
            "Installing collected packages: locket, partd\n",
            "Successfully installed locket-0.2.0 partd-1.1.0\n"
          ],
          "name": "stdout"
        }
      ]
    },
    {
      "cell_type": "code",
      "metadata": {
        "id": "pdgQ1XNqVr9D",
        "colab_type": "code",
        "colab": {}
      },
      "source": [
        "import dask.dataframe as dd"
      ],
      "execution_count": 25,
      "outputs": []
    },
    {
      "cell_type": "code",
      "metadata": {
        "id": "Z2AH0DYGYdWQ",
        "colab_type": "code",
        "colab": {}
      },
      "source": [
        "night_df = dd.read_csv('ee/nolightarea.csv')\n",
        "pop_df = dd.read_csv('ee/populatedarea.csv')\n",
        "night_pop = dd.merge(night_df, pop_df, how='inner', on=['px','py'])"
      ],
      "execution_count": 26,
      "outputs": []
    },
    {
      "cell_type": "code",
      "metadata": {
        "id": "TXwyMdqw1gCh",
        "colab_type": "code",
        "colab": {
          "base_uri": "https://localhost:8080/",
          "height": 510
        },
        "outputId": "97de6e3f-d9bf-4472-eceb-70f305375463"
      },
      "source": [
        "night_pop.to_csv('ee/populatednolight.csv', index=False)"
      ],
      "execution_count": 28,
      "outputs": [
        {
          "output_type": "execute_result",
          "data": {
            "text/plain": [
              "['/content/gdrive/My Drive/ee/populatednolight.csv/00.part',\n",
              " '/content/gdrive/My Drive/ee/populatednolight.csv/01.part',\n",
              " '/content/gdrive/My Drive/ee/populatednolight.csv/02.part',\n",
              " '/content/gdrive/My Drive/ee/populatednolight.csv/03.part',\n",
              " '/content/gdrive/My Drive/ee/populatednolight.csv/04.part',\n",
              " '/content/gdrive/My Drive/ee/populatednolight.csv/05.part',\n",
              " '/content/gdrive/My Drive/ee/populatednolight.csv/06.part',\n",
              " '/content/gdrive/My Drive/ee/populatednolight.csv/07.part',\n",
              " '/content/gdrive/My Drive/ee/populatednolight.csv/08.part',\n",
              " '/content/gdrive/My Drive/ee/populatednolight.csv/09.part',\n",
              " '/content/gdrive/My Drive/ee/populatednolight.csv/10.part',\n",
              " '/content/gdrive/My Drive/ee/populatednolight.csv/11.part',\n",
              " '/content/gdrive/My Drive/ee/populatednolight.csv/12.part',\n",
              " '/content/gdrive/My Drive/ee/populatednolight.csv/13.part',\n",
              " '/content/gdrive/My Drive/ee/populatednolight.csv/14.part',\n",
              " '/content/gdrive/My Drive/ee/populatednolight.csv/15.part',\n",
              " '/content/gdrive/My Drive/ee/populatednolight.csv/16.part',\n",
              " '/content/gdrive/My Drive/ee/populatednolight.csv/17.part',\n",
              " '/content/gdrive/My Drive/ee/populatednolight.csv/18.part',\n",
              " '/content/gdrive/My Drive/ee/populatednolight.csv/19.part',\n",
              " '/content/gdrive/My Drive/ee/populatednolight.csv/20.part',\n",
              " '/content/gdrive/My Drive/ee/populatednolight.csv/21.part',\n",
              " '/content/gdrive/My Drive/ee/populatednolight.csv/22.part',\n",
              " '/content/gdrive/My Drive/ee/populatednolight.csv/23.part',\n",
              " '/content/gdrive/My Drive/ee/populatednolight.csv/24.part',\n",
              " '/content/gdrive/My Drive/ee/populatednolight.csv/25.part',\n",
              " '/content/gdrive/My Drive/ee/populatednolight.csv/26.part',\n",
              " '/content/gdrive/My Drive/ee/populatednolight.csv/27.part',\n",
              " '/content/gdrive/My Drive/ee/populatednolight.csv/28.part',\n",
              " '/content/gdrive/My Drive/ee/populatednolight.csv/29.part']"
            ]
          },
          "metadata": {
            "tags": []
          },
          "execution_count": 28
        }
      ]
    },
    {
      "cell_type": "code",
      "metadata": {
        "id": "r678JsRehdbs",
        "colab_type": "code",
        "colab": {}
      },
      "source": [
        ""
      ],
      "execution_count": null,
      "outputs": []
    }
  ]
}